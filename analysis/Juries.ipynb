{
 "cells": [
  {
   "cell_type": "code",
   "execution_count": 1,
   "metadata": {},
   "outputs": [
    {
     "data": {
      "application/javascript": [
       "IPython.notebook.set_autosave_interval(180000)"
      ]
     },
     "metadata": {},
     "output_type": "display_data"
    },
    {
     "name": "stdout",
     "output_type": "stream",
     "text": [
      "Autosaving every 180 seconds\n"
     ]
    }
   ],
   "source": [
    "%autosave 180"
   ]
  },
  {
   "cell_type": "code",
   "execution_count": 2,
   "metadata": {
    "colab": {
     "base_uri": "https://localhost:8080/",
     "height": 1180
    },
    "colab_type": "code",
    "id": "bLHhm1oWtZhe",
    "outputId": "424bb18c-0f98-4a77-d5a9-11c6d31d0708"
   },
   "outputs": [
    {
     "name": "stdout",
     "output_type": "stream",
     "text": [
      "<class 'pandas.core.frame.DataFrame'>\n",
      "RangeIndex: 90 entries, 0 to 89\n",
      "Data columns (total 87 columns):\n",
      "mturk                       90 non-null object\n",
      "time_spent                  90 non-null object\n",
      "notes                       12 non-null object\n",
      "group_id                    90 non-null int64\n",
      "group_round1                90 non-null object\n",
      "group_round2                90 non-null object\n",
      "group_round3                90 non-null object\n",
      "case1                       90 non-null object\n",
      "case2                       90 non-null object\n",
      "case3                       90 non-null object\n",
      "chat_username               90 non-null object\n",
      "age                         86 non-null object\n",
      "gender                      85 non-null object\n",
      "education                   86 non-null object\n",
      "political                   84 non-null object\n",
      "political_engagement        84 non-null object\n",
      "confidence                  84 non-null object\n",
      "moral0                      90 non-null int64\n",
      "moral1                      90 non-null int64\n",
      "moral2                      90 non-null int64\n",
      "moral3                      90 non-null int64\n",
      "moral4                      90 non-null int64\n",
      "moral5                      90 non-null int64\n",
      "control_difficulty          90 non-null int64\n",
      "control_time                90 non-null int64\n",
      "control_satisfaction        90 non-null int64\n",
      "control0                    90 non-null int64\n",
      "control1                    90 non-null int64\n",
      "control2                    90 non-null int64\n",
      "control3                    90 non-null int64\n",
      "control4                    90 non-null int64\n",
      "control5                    90 non-null int64\n",
      "scaleable_vote              90 non-null float64\n",
      "scaleable_content_unlist    90 non-null bool\n",
      "scaleable_content_delete    90 non-null bool\n",
      "scaleable_content_report    90 non-null bool\n",
      "scaleable_user_warn         90 non-null bool\n",
      "scaleable_user_ban          90 non-null bool\n",
      "scaleable_user_permaban     90 non-null bool\n",
      "scaleable_justification     90 non-null object\n",
      "scaleable_difficulty        90 non-null int64\n",
      "scaleable_time              90 non-null int64\n",
      "scaleable_satisfaction      90 non-null int64\n",
      "scaleable0                  90 non-null int64\n",
      "scaleable1                  90 non-null int64\n",
      "scaleable2                  90 non-null int64\n",
      "scaleable3                  90 non-null int64\n",
      "scaleable4                  90 non-null int64\n",
      "scaleable5                  90 non-null int64\n",
      "immersive_vote              89 non-null float64\n",
      "immersive_content_unlist    90 non-null bool\n",
      "immersive_content_delete    90 non-null bool\n",
      "immersive_content_report    90 non-null bool\n",
      "immersive_user_warn         90 non-null bool\n",
      "immersive_user_ban          90 non-null bool\n",
      "immersive_user_permaban     90 non-null bool\n",
      "immersive_justification     88 non-null object\n",
      "immersive_difficulty        90 non-null int64\n",
      "immersive_time              90 non-null int64\n",
      "immersive_satisfaction      90 non-null int64\n",
      "immersive_convo             90 non-null int64\n",
      "immersive_trust             90 non-null int64\n",
      "immersive0                  90 non-null int64\n",
      "immersive1                  90 non-null int64\n",
      "immersive2                  90 non-null int64\n",
      "immersive3                  90 non-null int64\n",
      "immersive4                  90 non-null int64\n",
      "immersive5                  90 non-null int64\n",
      "complete_pref               89 non-null object\n",
      "complete_prefwhy            90 non-null object\n",
      "complete_nonpref            89 non-null object\n",
      "complete_nonprefwhy         90 non-null object\n",
      "complete_participate0       90 non-null bool\n",
      "complete_participate1       90 non-null bool\n",
      "complete_participate2       90 non-null bool\n",
      "complete_participate3       90 non-null bool\n",
      "complete_participate4       90 non-null bool\n",
      "complete_enf_rec            90 non-null int64\n",
      "complete_enf_enf            90 non-null int64\n",
      "complete_enf_why            88 non-null object\n",
      "complete3                   90 non-null int64\n",
      "complete_confidence         90 non-null int64\n",
      "complete_familiarity        90 non-null int64\n",
      "complete_comments           66 non-null object\n",
      "email                       65 non-null object\n",
      "num_chat_messages           90 non-null int64\n",
      "num_chat_words              90 non-null int64\n",
      "dtypes: bool(17), float64(2), int64(43), object(25)\n",
      "memory usage: 50.8+ KB\n"
     ]
    },
    {
     "data": {
      "text/plain": [
       "Index(['mturk', 'time_spent', 'notes', 'group_id', 'group_round1',\n",
       "       'group_round2', 'group_round3', 'case1', 'case2', 'case3',\n",
       "       'chat_username', 'age', 'gender', 'education', 'political',\n",
       "       'political_engagement', 'confidence', 'moral0', 'moral1', 'moral2',\n",
       "       'moral3', 'moral4', 'moral5', 'control_difficulty', 'control_time',\n",
       "       'control_satisfaction', 'control0', 'control1', 'control2', 'control3',\n",
       "       'control4', 'control5', 'scaleable_vote', 'scaleable_content_unlist',\n",
       "       'scaleable_content_delete', 'scaleable_content_report',\n",
       "       'scaleable_user_warn', 'scaleable_user_ban', 'scaleable_user_permaban',\n",
       "       'scaleable_justification', 'scaleable_difficulty', 'scaleable_time',\n",
       "       'scaleable_satisfaction', 'scaleable0', 'scaleable1', 'scaleable2',\n",
       "       'scaleable3', 'scaleable4', 'scaleable5', 'immersive_vote',\n",
       "       'immersive_content_unlist', 'immersive_content_delete',\n",
       "       'immersive_content_report', 'immersive_user_warn', 'immersive_user_ban',\n",
       "       'immersive_user_permaban', 'immersive_justification',\n",
       "       'immersive_difficulty', 'immersive_time', 'immersive_satisfaction',\n",
       "       'immersive_convo', 'immersive_trust', 'immersive0', 'immersive1',\n",
       "       'immersive2', 'immersive3', 'immersive4', 'immersive5', 'complete_pref',\n",
       "       'complete_prefwhy', 'complete_nonpref', 'complete_nonprefwhy',\n",
       "       'complete_participate0', 'complete_participate1',\n",
       "       'complete_participate2', 'complete_participate3',\n",
       "       'complete_participate4', 'complete_enf_rec', 'complete_enf_enf',\n",
       "       'complete_enf_why', 'complete3', 'complete_confidence',\n",
       "       'complete_familiarity', 'complete_comments', 'email',\n",
       "       'num_chat_messages', 'num_chat_words'],\n",
       "      dtype='object')"
      ]
     },
     "execution_count": 2,
     "metadata": {},
     "output_type": "execute_result"
    }
   ],
   "source": [
    "import pandas as pd\n",
    "import numpy as np\n",
    "import matplotlib\n",
    "import matplotlib.pyplot as plt\n",
    "import seaborn as sns\n",
    "\n",
    "matplotlib.style.use('ggplot')\n",
    "\n",
    "df = pd.read_csv('results_new_combined.csv')\n",
    "df.info(verbose=True)\n",
    "\n",
    "## make pct out of series\n",
    "def create_pct(pd_series):\n",
    "    return np.round((pd_series/pd_series.sum())*100, 3)\n",
    "\n",
    "## first row of sample data\n",
    "# df.iloc[0]\n",
    "\n",
    "## get dtypes\n",
    "# df.dtypes\n",
    "df.columns"
   ]
  },
  {
   "cell_type": "code",
   "execution_count": 3,
   "metadata": {
    "colab": {
     "base_uri": "https://localhost:8080/",
     "height": 36
    },
    "colab_type": "code",
    "id": "-jCmzv5xb_13",
    "outputId": "e9a7c257-7a61-42f5-cd39-026aa843ed09"
   },
   "outputs": [
    {
     "data": {
      "text/plain": [
       "90"
      ]
     },
     "execution_count": 3,
     "metadata": {},
     "output_type": "execute_result"
    }
   ],
   "source": [
    "# num of rows (participants)\n",
    "df.shape[0]"
   ]
  },
  {
   "cell_type": "code",
   "execution_count": 4,
   "metadata": {},
   "outputs": [
    {
     "data": {
      "text/html": [
       "<div>\n",
       "<style scoped>\n",
       "    .dataframe tbody tr th:only-of-type {\n",
       "        vertical-align: middle;\n",
       "    }\n",
       "\n",
       "    .dataframe tbody tr th {\n",
       "        vertical-align: top;\n",
       "    }\n",
       "\n",
       "    .dataframe thead th {\n",
       "        text-align: right;\n",
       "    }\n",
       "</style>\n",
       "<table border=\"1\" class=\"dataframe\">\n",
       "  <thead>\n",
       "    <tr style=\"text-align: right;\">\n",
       "      <th></th>\n",
       "      <th>mturk</th>\n",
       "      <th>group_id</th>\n",
       "      <th>group_round1</th>\n",
       "      <th>group_round2</th>\n",
       "      <th>group_round3</th>\n",
       "      <th>case1</th>\n",
       "      <th>case2</th>\n",
       "      <th>case3</th>\n",
       "      <th>case_control</th>\n",
       "      <th>case_scaleable</th>\n",
       "      <th>case_immersive</th>\n",
       "    </tr>\n",
       "  </thead>\n",
       "  <tbody>\n",
       "    <tr>\n",
       "      <th>0</th>\n",
       "      <td>A326O3VWP8TO8N</td>\n",
       "      <td>3</td>\n",
       "      <td>No Jury</td>\n",
       "      <td>Blind Voting</td>\n",
       "      <td>Deliberating</td>\n",
       "      <td>christchurch</td>\n",
       "      <td>pepe</td>\n",
       "      <td>momo</td>\n",
       "      <td>christchurch</td>\n",
       "      <td>pepe</td>\n",
       "      <td>momo</td>\n",
       "    </tr>\n",
       "    <tr>\n",
       "      <th>1</th>\n",
       "      <td>A2YUCJ28XANFOX</td>\n",
       "      <td>3</td>\n",
       "      <td>No Jury</td>\n",
       "      <td>Blind Voting</td>\n",
       "      <td>Deliberating</td>\n",
       "      <td>christchurch</td>\n",
       "      <td>pepe</td>\n",
       "      <td>momo</td>\n",
       "      <td>christchurch</td>\n",
       "      <td>pepe</td>\n",
       "      <td>momo</td>\n",
       "    </tr>\n",
       "    <tr>\n",
       "      <th>2</th>\n",
       "      <td>AKSJ3C5O3V9RB</td>\n",
       "      <td>4</td>\n",
       "      <td>Blind Voting</td>\n",
       "      <td>Deliberating</td>\n",
       "      <td>No Jury</td>\n",
       "      <td>momo</td>\n",
       "      <td>christchurch</td>\n",
       "      <td>pepe</td>\n",
       "      <td>pepe</td>\n",
       "      <td>momo</td>\n",
       "      <td>christchurch</td>\n",
       "    </tr>\n",
       "    <tr>\n",
       "      <th>3</th>\n",
       "      <td>A11P1OS26E6AMO</td>\n",
       "      <td>4</td>\n",
       "      <td>Blind Voting</td>\n",
       "      <td>Deliberating</td>\n",
       "      <td>No Jury</td>\n",
       "      <td>momo</td>\n",
       "      <td>christchurch</td>\n",
       "      <td>pepe</td>\n",
       "      <td>pepe</td>\n",
       "      <td>momo</td>\n",
       "      <td>christchurch</td>\n",
       "    </tr>\n",
       "    <tr>\n",
       "      <th>4</th>\n",
       "      <td>A34UER5ZQ5APMB</td>\n",
       "      <td>7</td>\n",
       "      <td>No Jury</td>\n",
       "      <td>Blind Voting</td>\n",
       "      <td>Deliberating</td>\n",
       "      <td>pepe</td>\n",
       "      <td>momo</td>\n",
       "      <td>christchurch</td>\n",
       "      <td>pepe</td>\n",
       "      <td>momo</td>\n",
       "      <td>christchurch</td>\n",
       "    </tr>\n",
       "  </tbody>\n",
       "</table>\n",
       "</div>"
      ],
      "text/plain": [
       "            mturk  group_id  group_round1  group_round2  group_round3  \\\n",
       "0  A326O3VWP8TO8N         3       No Jury  Blind Voting  Deliberating   \n",
       "1  A2YUCJ28XANFOX         3       No Jury  Blind Voting  Deliberating   \n",
       "2   AKSJ3C5O3V9RB         4  Blind Voting  Deliberating       No Jury   \n",
       "3  A11P1OS26E6AMO         4  Blind Voting  Deliberating       No Jury   \n",
       "4  A34UER5ZQ5APMB         7       No Jury  Blind Voting  Deliberating   \n",
       "\n",
       "          case1         case2         case3  case_control case_scaleable  \\\n",
       "0  christchurch          pepe          momo  christchurch           pepe   \n",
       "1  christchurch          pepe          momo  christchurch           pepe   \n",
       "2          momo  christchurch          pepe          pepe           momo   \n",
       "3          momo  christchurch          pepe          pepe           momo   \n",
       "4          pepe          momo  christchurch          pepe           momo   \n",
       "\n",
       "  case_immersive  \n",
       "0           momo  \n",
       "1           momo  \n",
       "2   christchurch  \n",
       "3   christchurch  \n",
       "4   christchurch  "
      ]
     },
     "execution_count": 4,
     "metadata": {},
     "output_type": "execute_result"
    }
   ],
   "source": [
    "## CREATE COLUMN LINKING CASE TO CONDITION\n",
    "\n",
    "rounds = ['group_round1','group_round2','group_round3']\n",
    "conditions = ['No Jury', 'Blind Voting', 'Deliberating']\n",
    "\n",
    "df['case_control'] = np.nan\n",
    "df['case_scaleable'] = np.nan\n",
    "df['case_immersive'] = np.nan\n",
    "\n",
    "\n",
    "def match_case(row, condition_name):\n",
    "    if row['group_round1'] == condition_name:\n",
    "        return row['case1']\n",
    "    elif row['group_round2'] == condition_name:\n",
    "        return row['case2']\n",
    "    else:\n",
    "        return row['case3']\n",
    "    \n",
    "df['case_control'] = df.apply((lambda x: match_case(x, 'No Jury')), axis=1)\n",
    "df['case_scaleable'] = df.apply((lambda x: match_case(x, 'Blind Voting')), axis=1)\n",
    "df['case_immersive'] = df.apply((lambda x: match_case(x, 'Deliberating')), axis=1)\n",
    "\n",
    "\n",
    "round_results = df[['mturk','group_id','group_round1','group_round2','group_round3','case1','case2','case3','case_control','case_scaleable','case_immersive']]\n",
    "round_results.head(5)"
   ]
  },
  {
   "cell_type": "code",
   "execution_count": 127,
   "metadata": {},
   "outputs": [
    {
     "data": {
      "text/plain": [
       "0     6.0\n",
       "1     7.5\n",
       "17    9.0\n",
       "18    4.5\n",
       "19    9.5\n",
       "20    6.5\n",
       "21    2.5\n",
       "22    4.5\n",
       "23    8.0\n",
       "24    5.0\n",
       "25    5.0\n",
       "26    4.0\n",
       "39    4.0\n",
       "40    3.5\n",
       "41    4.5\n",
       "42    4.5\n",
       "43    4.5\n",
       "56    8.0\n",
       "57    6.0\n",
       "58    2.0\n",
       "59    8.0\n",
       "60    4.0\n",
       "61    5.0\n",
       "62    9.0\n",
       "63    4.0\n",
       "65    4.0\n",
       "66    4.0\n",
       "78    9.0\n",
       "79    8.5\n",
       "80    8.0\n",
       "81    9.5\n",
       "82    8.0\n",
       "88    3.0\n",
       "89    1.0\n",
       "Name: immersive_vote, dtype: float64"
      ]
     },
     "execution_count": 127,
     "metadata": {},
     "output_type": "execute_result"
    }
   ],
   "source": [
    "## Votes (per juror) for CASE x CONDITION\n",
    "\n",
    "'''\n",
    "PEPE AUTOMATED DECISION\n",
    "Toxicity score: 9.5\n",
    "Content Action: DELETE\n",
    "User Action: WARN\n",
    "\n",
    "CHRISTCHURCH AUTOMATED DECISION\n",
    "Toxicity score: 7\n",
    "Content Action: UNLIST FROM SEARCH\n",
    "User Action: WARN\n",
    "\n",
    "MOMO AUTOMATED DECISION\n",
    "Toxicity score: 4\n",
    "Content Action: NONE\n",
    "User Action: WARN\n",
    "\n",
    "'''\n",
    "\n",
    "control_pepe_mean = 9.5\n",
    "control_cc_mean = 7\n",
    "control_momo_mean = 4\n",
    "\n",
    "\n",
    "### BY JURY\n",
    "votes_jury = {}\n",
    "\n",
    "votes_jury['pepe'] = {}\n",
    "votes_jury['christchurch'] = {}\n",
    "votes_jury['momo'] = {}\n",
    "\n",
    "votes_jury['pepe']['scaleable'] = df[['group_id','scaleable_vote']][df['case_scaleable'] == 'pepe'].groupby(['group_id']).describe()\n",
    "votes_jury['pepe']['immersive'] = df[['group_id','immersive_vote']][df['case_immersive'] == 'pepe'].groupby(['group_id']).describe()\n",
    "votes_jury['christchurch']['scaleable'] = df[['group_id','scaleable_vote']][df['case_scaleable'] == 'christchurch'].groupby(['group_id']).describe()\n",
    "votes_jury['christchurch']['immersive'] = df[['group_id','immersive_vote']][df['case_immersive'] == 'christchurch'].groupby(['group_id']).describe()\n",
    "votes_jury['momo']['scaleable'] = df[['group_id','scaleable_vote']][df['case_scaleable'] == 'momo'].groupby(['group_id']).describe()\n",
    "votes_jury['momo']['immersive'] = df[['group_id','immersive_vote']][df['case_immersive'] == 'momo'].groupby(['group_id']).describe()\n",
    "\n",
    "\n",
    "### BY JUROR\n",
    "votes_juror = {}\n",
    "\n",
    "votes_juror['pepe'] = {}\n",
    "votes_juror['christchurch'] = {}\n",
    "votes_juror['momo'] = {}\n",
    "\n",
    "votes_juror['pepe']['scaleable'] = df[['group_id','scaleable_vote']][df['case_scaleable'] == 'pepe'].dropna()\n",
    "votes_juror['pepe']['immersive'] = df[['group_id','immersive_vote']][df['case_immersive'] == 'pepe'].dropna()\n",
    "votes_juror['christchurch']['scaleable'] = df[['group_id','scaleable_vote']][df['case_scaleable'] == 'christchurch'].dropna()\n",
    "votes_juror['christchurch']['immersive'] = df[['group_id','immersive_vote']][df['case_immersive'] == 'christchurch'].dropna()\n",
    "votes_juror['momo']['scaleable'] = df[['group_id','scaleable_vote']][df['case_scaleable'] == 'momo'].dropna()\n",
    "votes_juror['momo']['immersive'] = df[['group_id','immersive_vote']][df['case_immersive'] == 'momo'].dropna()\n",
    "\n",
    "\n",
    "### checking output\n",
    "votes_juror['momo']['immersive']['immersive_vote']"
   ]
  },
  {
   "cell_type": "code",
   "execution_count": 133,
   "metadata": {},
   "outputs": [
    {
     "data": {
      "image/png": "[encoded data removed]",
      "text/plain": [
       "<Figure size 864x864 with 6 Axes>"
      ]
     },
     "metadata": {
      "needs_background": "light"
     },
     "output_type": "display_data"
    }
   ],
   "source": [
    "### JUROR LEVEL\n",
    "\n",
    "fig, axs = plt.subplots(2,3, figsize=(12,12))\n",
    "axs = axs.ravel()\n",
    "\n",
    "mean_scores = [\n",
    "    votes_juror['pepe']['scaleable']['scaleable_vote'],\n",
    "    votes_juror['christchurch']['scaleable']['scaleable_vote'],\n",
    "    votes_juror['momo']['scaleable']['scaleable_vote'],\n",
    "    votes_juror['pepe']['immersive']['immersive_vote'],\n",
    "    votes_juror['christchurch']['immersive']['immersive_vote'],\n",
    "    votes_juror['momo']['immersive']['immersive_vote']\n",
    "]\n",
    "\n",
    "\n",
    "for i in range(0, len(mean_scores)):\n",
    "    axs[i].boxplot(mean_scores[i])\n",
    "    y = mean_scores[i]\n",
    "    x = np.random.normal(1, 0.04, size=len(y))\n",
    "    axs[i].plot(x, y, 'r.', markersize=5, alpha=0.5)\n",
    "\n",
    "    \n",
    "## plotting the control points\n",
    "for j in [0,3]:\n",
    "    y = [control_pepe_mean for i in range(0, len(mean_scores[j]))]\n",
    "    x = np.random.normal(1, 0, size=len(y))\n",
    "    axs[j].plot(x, y, 'b.', markersize=15, alpha=1)\n",
    "    \n",
    "for j in [1,4]:\n",
    "    y = [control_cc_mean for i in range(0, len(mean_scores[j]))]\n",
    "    x = np.random.normal(1, 0., size=len(y))\n",
    "    axs[j].plot(x, y, 'b.', markersize=15, alpha=1)\n",
    "    \n",
    "for j in [2,5]:\n",
    "    y = [control_momo_mean for i in range(0, len(mean_scores[j]))]\n",
    "    x = np.random.normal(1, 0, size=len(y))\n",
    "    axs[j].plot(x, y, 'b.', markersize=15, alpha=1)\n",
    "\n",
    "    \n",
    "for ax in axs:\n",
    "    ax.set_ylim(1, 10.5)\n",
    "    ax.tick_params(axis='x',bottom=False,labelbottom=False)\n",
    "    \n",
    "    \n",
    "axs[0].set_ylabel('Toxicity score')\n",
    "axs[3].set_ylabel('Toxicity score')\n",
    "\n",
    "axs[0].set_xlabel('Pepe')\n",
    "axs[1].set_xlabel('Christchurch')\n",
    "axs[2].set_xlabel('Momo')\n",
    "axs[3].set_xlabel('Pepe')\n",
    "axs[4].set_xlabel('Christchurch')\n",
    "axs[5].set_xlabel('Momo')\n",
    "\n",
    "axs[1].set_title(\"Toxicity by Jurors (Scaleable)\")\n",
    "axs[4].set_title(\"Toxicity by Jurors (Immersive)\")\n",
    "\n",
    "plt.show()"
   ]
  },
  {
   "cell_type": "code",
   "execution_count": 116,
   "metadata": {},
   "outputs": [
    {
     "data": {
      "image/png": "[encoded data removed]",
      "text/plain": [
       "<Figure size 864x864 with 6 Axes>"
      ]
     },
     "metadata": {
      "needs_background": "light"
     },
     "output_type": "display_data"
    }
   ],
   "source": [
    "### JURY LEVEL\n",
    "\n",
    "fig, axs = plt.subplots(2,3, figsize=(12,12))\n",
    "axs = axs.ravel()\n",
    "\n",
    "mean_scores = [\n",
    "    votes_jury['pepe']['scaleable']['scaleable_vote']['mean'],\n",
    "    votes_jury['christchurch']['scaleable']['scaleable_vote']['mean'],\n",
    "    votes_jury['momo']['scaleable']['scaleable_vote']['mean'],\n",
    "    votes_jury['pepe']['immersive']['immersive_vote']['mean'],\n",
    "    votes_jury['christchurch']['immersive']['immersive_vote']['mean'],\n",
    "    votes_jury['momo']['immersive']['immersive_vote']['mean']\n",
    "]\n",
    "\n",
    "for i in range(0, len(mean_scores)):\n",
    "    axs[i].boxplot(mean_scores[i])\n",
    "    y = mean_scores[i]\n",
    "    x = np.random.normal(1, 0.04, size=len(y))\n",
    "    axs[i].plot(x, y, 'r.', markersize=10, alpha=0.5)\n",
    "\n",
    "    \n",
    "## plotting the control points\n",
    "for j in [0,3]:\n",
    "    y = [control_pepe_mean for i in range(0, len(mean_scores[j]))]\n",
    "    x = np.random.normal(1, 0, size=len(y))\n",
    "    axs[j].plot(x, y, 'b.', markersize=15, alpha=0.5)\n",
    "    \n",
    "for j in [1,4]:\n",
    "    y = [control_cc_mean for i in range(0, len(mean_scores[j]))]\n",
    "    x = np.random.normal(1, 0., size=len(y))\n",
    "    axs[j].plot(x, y, 'b.', markersize=15, alpha=0.5)\n",
    "    \n",
    "for j in [2,5]:\n",
    "    y = [control_momo_mean for i in range(0, len(mean_scores[j]))]\n",
    "    x = np.random.normal(1, 0, size=len(y))\n",
    "    axs[j].plot(x, y, 'b.', markersize=15, alpha=0.5)\n",
    "\n",
    "    \n",
    "for ax in axs:\n",
    "    ax.set_ylim(1, 10.5)\n",
    "    ax.tick_params(axis='x',bottom=False,labelbottom=False)\n",
    "    \n",
    "    \n",
    "axs[0].set_ylabel('Toxicity score')\n",
    "axs[3].set_ylabel('Toxicity score')\n",
    "\n",
    "axs[0].set_xlabel('Pepe')\n",
    "axs[1].set_xlabel('Christchurch')\n",
    "axs[2].set_xlabel('Momo')\n",
    "axs[3].set_xlabel('Pepe')\n",
    "axs[4].set_xlabel('Christchurch')\n",
    "axs[5].set_xlabel('Momo')\n",
    "\n",
    "axs[1].set_title(\"Toxicity by Juries (Scaleable)\")\n",
    "axs[4].set_title(\"Toxicity by Juries (Immersive)\")\n",
    "\n",
    "plt.show()"
   ]
  },
  {
   "cell_type": "markdown",
   "metadata": {},
   "source": [
    "# Jury-level analysis\n",
    "\n",
    "- Number of jurors per jury\n",
    "- Time spent per juror/jury\n",
    "- Toxicity per jury"
   ]
  },
  {
   "cell_type": "code",
   "execution_count": 6,
   "metadata": {},
   "outputs": [],
   "source": [
    "juries = df.groupby(by='group_id')"
   ]
  },
  {
   "cell_type": "code",
   "execution_count": 22,
   "metadata": {},
   "outputs": [
    {
     "data": {
      "text/html": [
       "<div>\n",
       "<style scoped>\n",
       "    .dataframe tbody tr th:only-of-type {\n",
       "        vertical-align: middle;\n",
       "    }\n",
       "\n",
       "    .dataframe tbody tr th {\n",
       "        vertical-align: top;\n",
       "    }\n",
       "\n",
       "    .dataframe thead th {\n",
       "        text-align: right;\n",
       "    }\n",
       "</style>\n",
       "<table border=\"1\" class=\"dataframe\">\n",
       "  <thead>\n",
       "    <tr style=\"text-align: right;\">\n",
       "      <th></th>\n",
       "      <th>group_id</th>\n",
       "      <th>group_size</th>\n",
       "    </tr>\n",
       "  </thead>\n",
       "  <tbody>\n",
       "    <tr>\n",
       "      <th>0</th>\n",
       "      <td>3</td>\n",
       "      <td>2</td>\n",
       "    </tr>\n",
       "    <tr>\n",
       "      <th>1</th>\n",
       "      <td>3</td>\n",
       "      <td>2</td>\n",
       "    </tr>\n",
       "    <tr>\n",
       "      <th>2</th>\n",
       "      <td>4</td>\n",
       "      <td>2</td>\n",
       "    </tr>\n",
       "    <tr>\n",
       "      <th>3</th>\n",
       "      <td>4</td>\n",
       "      <td>2</td>\n",
       "    </tr>\n",
       "    <tr>\n",
       "      <th>4</th>\n",
       "      <td>7</td>\n",
       "      <td>6</td>\n",
       "    </tr>\n",
       "    <tr>\n",
       "      <th>5</th>\n",
       "      <td>7</td>\n",
       "      <td>6</td>\n",
       "    </tr>\n",
       "    <tr>\n",
       "      <th>6</th>\n",
       "      <td>7</td>\n",
       "      <td>6</td>\n",
       "    </tr>\n",
       "    <tr>\n",
       "      <th>7</th>\n",
       "      <td>7</td>\n",
       "      <td>6</td>\n",
       "    </tr>\n",
       "    <tr>\n",
       "      <th>8</th>\n",
       "      <td>7</td>\n",
       "      <td>6</td>\n",
       "    </tr>\n",
       "    <tr>\n",
       "      <th>9</th>\n",
       "      <td>7</td>\n",
       "      <td>6</td>\n",
       "    </tr>\n",
       "  </tbody>\n",
       "</table>\n",
       "</div>"
      ],
      "text/plain": [
       "   group_id  group_size\n",
       "0         3           2\n",
       "1         3           2\n",
       "2         4           2\n",
       "3         4           2\n",
       "4         7           6\n",
       "5         7           6\n",
       "6         7           6\n",
       "7         7           6\n",
       "8         7           6\n",
       "9         7           6"
      ]
     },
     "execution_count": 22,
     "metadata": {},
     "output_type": "execute_result"
    }
   ],
   "source": [
    "## num of jurors in each jury\n",
    "jury_size = pd.DataFrame(juries.size(), columns=['group_size'])\n",
    "\n",
    "## Merge jury size info from the jury_size DF to main DF\n",
    "if 'group_size' not in df.columns:\n",
    "    df = df.merge(jury_size, on='group_id')\n",
    "\n",
    "df[['group_id','group_size']].head(10)"
   ]
  },
  {
   "cell_type": "code",
   "execution_count": 8,
   "metadata": {},
   "outputs": [
    {
     "data": {
      "text/plain": [
       "Text(0, 0.5, 'Number of jurors')"
      ]
     },
     "execution_count": 8,
     "metadata": {},
     "output_type": "execute_result"
    },
    {
     "data": {
      "image/png": "[encoded data removed]",
      "text/plain": [
       "<Figure size 864x576 with 1 Axes>"
      ]
     },
     "metadata": {
      "needs_background": "light"
     },
     "output_type": "display_data"
    }
   ],
   "source": [
    "## Bar chart of jurors per jury\n",
    "\n",
    "jury_size.index = np.arange(1,21)\n",
    "jury_size = jury_size.sort_values(by='group_size') \n",
    "\n",
    "jury_size.plot(kind='bar', grid=False, edgecolor='#D8D8D8', linewidth=1, figsize=(12,8))\n",
    "\n",
    "\n",
    "plt.title(\"Jurors per Jury\")\n",
    "plt.xlabel('Jury')\n",
    "plt.ylabel('Number of jurors')"
   ]
  },
  {
   "cell_type": "code",
   "execution_count": 9,
   "metadata": {},
   "outputs": [],
   "source": [
    "# #### Number of Jurors per Jury\n",
    "# num_jurors = juries['group_id'].count()\n",
    "\n",
    "# ax = num_jurors.hist(bins=[1,2,3,4,5,6], grid=False, edgecolor='#D8D8D8', linewidth=1)\n",
    "\n",
    "# # Draw horizontal axis lines\n",
    "# vals = ax.get_yticks()\n",
    "# for tick in vals:\n",
    "#     ax.axhline(y=tick, linestyle='dashed', alpha=0.4, color='#eeeeee', zorder=1)\n",
    "\n",
    "# # Set title and labels\n",
    "# ax.set_title(\"Jury Members per Jury\")\n",
    "# ax.set_xlabel(\"Number of Jurors\")\n",
    "# ax.set_ylabel(\"Number of Juries\")"
   ]
  },
  {
   "cell_type": "code",
   "execution_count": 10,
   "metadata": {},
   "outputs": [
    {
     "data": {
      "text/plain": [
       "Text(24.801086142322102, 17.009999999999998, 'Mean: 22.55 minutes')"
      ]
     },
     "execution_count": 10,
     "metadata": {},
     "output_type": "execute_result"
    },
    {
     "data": {
      "image/png": "[encoded data removed]",
      "text/plain": [
       "<Figure size 864x576 with 1 Axes>"
      ]
     },
     "metadata": {
      "needs_background": "light"
     },
     "output_type": "display_data"
    }
   ],
   "source": [
    "## Time spent per juror\n",
    "\n",
    "df['time_spent_min'] = df['time_spent'] / pd.Timedelta(minutes=1)\n",
    "\n",
    "q = df['time_spent_min'].quantile(0.99)\n",
    "\n",
    "## filter out for one time outlier\n",
    "adj_time = df[df['time_spent_min'] < q]\n",
    "\n",
    "## histogram distro of time spent\n",
    "adj_time['time_spent_min'].hist(bins=25, grid=False, edgecolor='#D8D8D8', linewidth=1, figsize=(12,8))\n",
    "\n",
    "plt.title(\"Time spent in experiment\")\n",
    "plt.xlabel('Minutes')\n",
    "plt.ylabel('Frequency of jurors')\n",
    "\n",
    "## mean time spent (min)\n",
    "# adj_time['time_spent_min'].mean()\n",
    "\n",
    "plt.axvline(adj_time['time_spent_min'].mean(), color='black', linestyle='dashed', linewidth=1.25)\n",
    "\n",
    "_, max_ = plt.ylim()\n",
    "plt.text(adj_time['time_spent_min'].mean() + adj_time['time_spent_min'].mean()/10, \n",
    "         max_ - max_/10, \n",
    "         'Mean: {:.2f} minutes'.format(adj_time['time_spent_min'].mean()))"
   ]
  },
  {
   "cell_type": "code",
   "execution_count": 11,
   "metadata": {},
   "outputs": [
    {
     "data": {
      "image/png": "[encoded data removed]",
      "text/plain": [
       "<Figure size 864x576 with 1 Axes>"
      ]
     },
     "metadata": {
      "needs_background": "light"
     },
     "output_type": "display_data"
    }
   ],
   "source": [
    "## boxplot of time spent, grouped by jury\n",
    "adj_time.boxplot(column='time_spent_min', by='group_id', grid=False, figsize=(12,8))\n",
    "\n",
    "plt.title(\"Time spent by Juries\")\n",
    "plt.suptitle(\"\")\n",
    "\n",
    "plt.xlabel('Jury')\n",
    "plt.ylabel('Time spent (minutes)')\n",
    "\n",
    "plt.show()"
   ]
  },
  {
   "cell_type": "code",
   "execution_count": 20,
   "metadata": {},
   "outputs": [
    {
     "name": "stderr",
     "output_type": "stream",
     "text": [
      "/usr/local/anaconda3/lib/python3.7/site-packages/numpy/lib/function_base.py:3826: RuntimeWarning: Invalid value encountered in percentile\n",
      "  interpolation=interpolation)\n",
      "/usr/local/anaconda3/lib/python3.7/site-packages/matplotlib/cbook/__init__.py:1246: RuntimeWarning: invalid value encountered in less_equal\n",
      "  wiskhi = np.compress(x <= hival, x)\n",
      "/usr/local/anaconda3/lib/python3.7/site-packages/matplotlib/cbook/__init__.py:1253: RuntimeWarning: invalid value encountered in greater_equal\n",
      "  wisklo = np.compress(x >= loval, x)\n",
      "/usr/local/anaconda3/lib/python3.7/site-packages/matplotlib/cbook/__init__.py:1261: RuntimeWarning: invalid value encountered in less\n",
      "  np.compress(x < stats['whislo'], x),\n",
      "/usr/local/anaconda3/lib/python3.7/site-packages/matplotlib/cbook/__init__.py:1262: RuntimeWarning: invalid value encountered in greater\n",
      "  np.compress(x > stats['whishi'], x)\n"
     ]
    },
    {
     "data": {
      "image/png": "[encoded data removed]",
      "text/plain": [
       "<Figure size 864x864 with 3 Axes>"
      ]
     },
     "metadata": {
      "needs_background": "light"
     },
     "output_type": "display_data"
    }
   ],
   "source": [
    "### TOXICITY PER JURY\n",
    "# juries['scaleable_vote','immersive_vote'].describe()\n",
    "\n",
    "toxicity_jury = pd.DataFrame(juries['scaleable_vote','immersive_vote'].describe())\n",
    "toxicity_jury.index = np.arange(1,21)\n",
    "\n",
    "fig = plt.figure(figsize=(12,12))\n",
    "ax = fig.add_subplot(111)\n",
    "ax1 = fig.add_subplot(211)\n",
    "ax2 = fig.add_subplot(212)\n",
    "\n",
    "# Turn off axis lines and ticks of the big subplot\n",
    "ax.spines['top'].set_color('none')\n",
    "ax.spines['bottom'].set_color('none')\n",
    "ax.spines['left'].set_color('none')\n",
    "ax.spines['right'].set_color('none')\n",
    "\n",
    "# Plot toxicity scores\n",
    "toxicity_jury.boxplot(ax=ax1, column=['scaleable_vote'], by=toxicity_jury.index, grid=False)\n",
    "toxicity_jury.boxplot(ax=ax2, column=['immersive_vote'], by=toxicity_jury.index, grid=False)\n",
    "\n",
    "\n",
    "ax.set_xlabel('Jury', labelpad=50)\n",
    "ax.set_ylabel('Toxicity score', labelpad=20)\n",
    "ax1.set_xlabel('')\n",
    "ax2.set_xlabel('')\n",
    "\n",
    "ax1.set_title(\"Toxicity by Juries (Scaleable)\")\n",
    "ax2.set_title(\"Toxicity by Juries (Immersive)\")\n",
    "\n",
    "ax.get_figure().suptitle(\"\")\n",
    "ax.set_facecolor('white')\n",
    "\n",
    "ax.tick_params(axis='x',bottom=False,labelbottom=False)\n",
    "ax.tick_params(axis='y',left=False,labelleft=False)\n",
    "\n",
    "ax1.set_xticks(np.arange(1,21))\n",
    "ax2.set_xticks(np.arange(1,21))\n",
    "\n",
    "plt.show()"
   ]
  },
  {
   "cell_type": "code",
   "execution_count": 13,
   "metadata": {},
   "outputs": [],
   "source": [
    "# ### TOXICITY PER JURY\n",
    "# # juries['scaleable_vote','immersive_vote'].describe()\n",
    "\n",
    "# toxicity_jury = pd.DataFrame(juries['scaleable_vote','immersive_vote'].describe())\n",
    "# toxicity_jury.index = np.arange(1,21)\n",
    "\n",
    "# fig = plt.figure(figsize=(12,12))\n",
    "# ax = fig.add_subplot(111)\n",
    "# ax1 = fig.add_subplot(211)\n",
    "# ax2 = fig.add_subplot(212)\n",
    "\n",
    "# # Turn off axis lines and ticks of the big subplot\n",
    "# ax.spines['top'].set_color('none')\n",
    "# ax.spines['bottom'].set_color('none')\n",
    "# ax.spines['left'].set_color('none')\n",
    "# ax.spines['right'].set_color('none')\n",
    "\n",
    "# # Plot toxicity scores\n",
    "# toxicity_jury.boxplot(ax=ax1, column=['scaleable_vote'], by=toxicity_jury.index, grid=False)\n",
    "# toxicity_jury.boxplot(ax=ax2, column=['immersive_vote'], by=toxicity_jury.index, grid=False)\n",
    "\n",
    "\n",
    "# ax.set_xlabel('Jury', labelpad=50)\n",
    "# ax.set_ylabel('Toxicity score', labelpad=20)\n",
    "# ax1.set_xlabel('')\n",
    "# ax2.set_xlabel('')\n",
    "\n",
    "# ax1.set_title(\"Toxicity by Juries (Scaleable)\")\n",
    "# ax2.set_title(\"Toxicity by Juries (Immersive)\")\n",
    "\n",
    "# ax.get_figure().suptitle(\"\")\n",
    "# ax.set_facecolor('white')\n",
    "\n",
    "# ax.tick_params(axis='x',bottom=False,labelbottom=False)\n",
    "# ax.tick_params(axis='y',left=False,labelleft=False)\n",
    "\n",
    "# ax1.set_xticks(np.arange(1,21))\n",
    "# ax2.set_xticks(np.arange(1,21))\n",
    "\n",
    "# plt.show()"
   ]
  },
  {
   "cell_type": "markdown",
   "metadata": {},
   "source": [
    "# Condition-level Analysis\n",
    "\n",
    "- matching round and case\n",
    "- toxicity per condition x case\n",
    "- time/difficulty/satisfaction per case\n",
    "- time/difficulty/satisfaction per condition\n",
    "- condition preferences"
   ]
  },
  {
   "cell_type": "code",
   "execution_count": 14,
   "metadata": {
    "scrolled": false
   },
   "outputs": [],
   "source": [
    "col_rounds = ['group_id', 'group_round1', 'group_round2', 'group_round3', 'case1', 'case2', 'case3', 'control0', 'control1', 'control2', 'control3',\n",
    "       'control4', 'control5','scaleable0', 'scaleable1', 'scaleable2',\n",
    "       'scaleable3', 'scaleable4', 'scaleable5','immersive0', 'immersive1',\n",
    "       'immersive2', 'immersive3', 'immersive4', 'immersive5']\n",
    "\n",
    "# rounds = df[col_rounds]\n",
    "# rounds"
   ]
  },
  {
   "cell_type": "code",
   "execution_count": 15,
   "metadata": {},
   "outputs": [
    {
     "data": {
      "text/plain": [
       "2     4.5\n",
       "4     8.0\n",
       "20    6.5\n",
       "Name: immersive_vote, dtype: float64"
      ]
     },
     "execution_count": 15,
     "metadata": {},
     "output_type": "execute_result"
    }
   ],
   "source": [
    "## Round preference (satisfaction)\n",
    "\n",
    "unsatisfied = df.query(\"immersive_satisfaction == '1'\").dropna()\n",
    "satisfied = df.query(\"immersive_satisfaction == '5'\").dropna()\n",
    "\n",
    "satisfied['immersive_vote']"
   ]
  },
  {
   "cell_type": "code",
   "execution_count": 16,
   "metadata": {},
   "outputs": [
    {
     "data": {
      "text/html": [
       "<div>\n",
       "<style scoped>\n",
       "    .dataframe tbody tr th:only-of-type {\n",
       "        vertical-align: middle;\n",
       "    }\n",
       "\n",
       "    .dataframe tbody tr th {\n",
       "        vertical-align: top;\n",
       "    }\n",
       "\n",
       "    .dataframe thead th {\n",
       "        text-align: right;\n",
       "    }\n",
       "</style>\n",
       "<table border=\"1\" class=\"dataframe\">\n",
       "  <thead>\n",
       "    <tr style=\"text-align: right;\">\n",
       "      <th></th>\n",
       "      <th>count</th>\n",
       "    </tr>\n",
       "  </thead>\n",
       "  <tbody>\n",
       "    <tr>\n",
       "      <th>to</th>\n",
       "      <td>100.0</td>\n",
       "    </tr>\n",
       "    <tr>\n",
       "      <th>the</th>\n",
       "      <td>86.0</td>\n",
       "    </tr>\n",
       "    <tr>\n",
       "      <th>I</th>\n",
       "      <td>64.0</td>\n",
       "    </tr>\n",
       "    <tr>\n",
       "      <th>and</th>\n",
       "      <td>62.0</td>\n",
       "    </tr>\n",
       "    <tr>\n",
       "      <th>a</th>\n",
       "      <td>44.0</td>\n",
       "    </tr>\n",
       "  </tbody>\n",
       "</table>\n",
       "</div>"
      ],
      "text/plain": [
       "     count\n",
       "to   100.0\n",
       "the   86.0\n",
       "I     64.0\n",
       "and   62.0\n",
       "a     44.0"
      ]
     },
     "execution_count": 16,
     "metadata": {},
     "output_type": "execute_result"
    }
   ],
   "source": [
    "## Word Frequency for Round Preference reason\n",
    "\n",
    "freq = pd.DataFrame(df['complete_prefwhy'].dropna().apply(lambda x: pd.value_counts(x.split(\" \"))).sum(axis = 0), columns=[\"count\"]).sort_values([\"count\"], ascending=False)\n",
    "\n",
    "freq[:5]"
   ]
  },
  {
   "cell_type": "code",
   "execution_count": 17,
   "metadata": {},
   "outputs": [
    {
     "ename": "NameError",
     "evalue": "name 'age' is not defined",
     "output_type": "error",
     "traceback": [
      "\u001b[0;31m---------------------------------------------------------------------------\u001b[0m",
      "\u001b[0;31mNameError\u001b[0m                                 Traceback (most recent call last)",
      "\u001b[0;32m<ipython-input-17-06e111262207>\u001b[0m in \u001b[0;36m<module>\u001b[0;34m\u001b[0m\n\u001b[1;32m      1\u001b[0m \u001b[0;31m# Demographic analysis\u001b[0m\u001b[0;34m\u001b[0m\u001b[0;34m\u001b[0m\u001b[0;34m\u001b[0m\u001b[0m\n\u001b[0;32m----> 2\u001b[0;31m \u001b[0;34m-\u001b[0m \u001b[0mage\u001b[0m\u001b[0;34m\u001b[0m\u001b[0;34m\u001b[0m\u001b[0m\n\u001b[0m",
      "\u001b[0;31mNameError\u001b[0m: name 'age' is not defined"
     ]
    }
   ],
   "source": [
    "# Demographic analysis\n",
    "- age\n"
   ]
  },
  {
   "cell_type": "code",
   "execution_count": null,
   "metadata": {},
   "outputs": [],
   "source": [
    "col_demographics = ['age', 'gender', 'education', 'political','political_engagement','confidence', 'complete_confidence','complete_familiarity']\n",
    "\n",
    "demographics = df[col_demographics]\n",
    "\n",
    "demographics[:5]"
   ]
  },
  {
   "cell_type": "code",
   "execution_count": null,
   "metadata": {
    "colab": {
     "base_uri": "https://localhost:8080/",
     "height": 354
    },
    "colab_type": "code",
    "id": "B-0dh37hvjol",
    "outputId": "66974848-a00f-4813-c2fd-92b8708c958e"
   },
   "outputs": [],
   "source": [
    "## Participation\n",
    "\n",
    "col_participation = ['complete_participate0','complete_participate1','complete_participate2','complete_participate3','complete_participate4']\n",
    "\n",
    "participation = df[col_participation].apply(pd.Series.value_counts)\n",
    "participation.columns=['Volunteer', 'Free Time', 'Paid', 'Mandatory','No']\n",
    "\n",
    "participation = participation.apply(create_pct)\n",
    "participation"
   ]
  },
  {
   "cell_type": "code",
   "execution_count": null,
   "metadata": {},
   "outputs": [],
   "source": [
    "## Confidence before and after\n",
    "col_confidence = ['confidence', 'complete_confidence','complete_familiarity']\n",
    "\n",
    "confidence = df[col_confidence]"
   ]
  },
  {
   "cell_type": "code",
   "execution_count": null,
   "metadata": {},
   "outputs": [],
   "source": [
    "## Moral Values\n",
    "\n",
    "col_morals = ['moral0', 'moral1', 'moral2','moral3', 'moral4', 'moral5']\n",
    "morals = df[col_morals].apply(pd.Series.value_counts)\n",
    "\n",
    "morals.columns=['Care', 'Fairness', 'Sanctity', 'Loyalty', 'Authority', 'Liberty']\n",
    "\n",
    "## percentage distro of moral values\n",
    "morals.apply(create_pct)\n",
    "\n",
    "## MVs by count\n",
    "morals"
   ]
  },
  {
   "cell_type": "markdown",
   "metadata": {},
   "source": [
    "# Enforcement vs. Recommendation\n",
    "\n",
    "- juror preference\n",
    "- jury preference"
   ]
  },
  {
   "cell_type": "code",
   "execution_count": null,
   "metadata": {
    "colab": {
     "base_uri": "https://localhost:8080/",
     "height": 223
    },
    "colab_type": "code",
    "id": "iIs7lI3bviiD",
    "outputId": "3578c693-7a09-4e58-a8f6-5279467504a3"
   },
   "outputs": [],
   "source": [
    "## Across all jurors\n",
    "\n",
    "df[['complete_enf_rec','complete_enf_enf']].describe()"
   ]
  },
  {
   "cell_type": "code",
   "execution_count": null,
   "metadata": {},
   "outputs": [],
   "source": [
    "## By Jury\n",
    "\n",
    "# df[['group_id','complete_enf_rec','complete_enf_enf']]"
   ]
  },
  {
   "cell_type": "code",
   "execution_count": null,
   "metadata": {
    "colab": {
     "base_uri": "https://localhost:8080/",
     "height": 274
    },
    "colab_type": "code",
    "id": "EVS909RuwE2C",
    "outputId": "37aa8c1d-da48-41cd-843d-a671c7247e49"
   },
   "outputs": [],
   "source": [
    "## Overlap hist: Enforcement vs. Recommendation\n",
    "\n",
    "fig, ax = plt.subplots(nrows=1)\n",
    "\n",
    "df['complete_enf_enf'].hist(bins=np.arange(0, 6.5) - 0.5, grid=False, alpha=0.5, label='Enforcement', ax=ax)\n",
    "df['complete_enf_rec'].hist(bins=np.arange(0, 6.5) - 0.5, grid=False, alpha=0.5, label='Recommendation', ax=ax)\n",
    "\n",
    "ax.legend(loc='upper left', fontsize=10)\n",
    "\n",
    "ax.set_title(\"Enforcement vs. Recommendation\")\n",
    "\n",
    "ax.tick_params(axis=\"both\", which=\"both\", \n",
    "               bottom=True, top=False, left=True, right=False, \n",
    "               labelbottom=True, labelleft=True)\n",
    "\n",
    "# Draw horizontal axis lines\n",
    "vals = ax.get_yticks()\n",
    "for tick in vals:\n",
    "    ax.axhline(y=tick, linestyle='dashed', alpha=0.4, color='#eeeeee', zorder=1)\n",
    "\n",
    "# Set x-axis label\n",
    "ax.set_xlabel(\"Likert Scale\", labelpad=20, weight='bold', size=12)\n",
    "\n",
    "# Set y-axis label\n",
    "ax.set_ylabel(\"Number of Jurors\", labelpad=20, weight='bold', size=12)"
   ]
  },
  {
   "cell_type": "markdown",
   "metadata": {},
   "source": [
    "# Qualitative Text Analysis"
   ]
  },
  {
   "cell_type": "code",
   "execution_count": null,
   "metadata": {
    "colab": {
     "base_uri": "https://localhost:8080/",
     "height": 731
    },
    "colab_type": "code",
    "id": "2W0n3TzAa1jC",
    "outputId": "039e6b12-cb38-44fc-8ed3-57123d288019"
   },
   "outputs": [],
   "source": [
    "#### Frequency analysis of themes\n",
    "\n",
    "# import csv\n",
    "\n",
    "# with open('themes.csv') as csvfile:\n",
    "#   readCSV = csv.reader(csvfile, delimiter=',')\n",
    "#   next(readCSV, None)\n",
    "#   for row in readCSV:\n",
    "#     row[1] = row[1] + \" \"\n",
    "#     multiplier = int(row[0])\n",
    "#     print(multiplier * row[1].lower())"
   ]
  }
 ],
 "metadata": {
  "colab": {
   "collapsed_sections": [],
   "name": "Juries",
   "provenance": [],
   "version": "0.3.2"
  },
  "kernelspec": {
   "display_name": "Python 3",
   "language": "python",
   "name": "python3"
  },
  "language_info": {
   "codemirror_mode": {
    "name": "ipython",
    "version": 3
   },
   "file_extension": ".py",
   "mimetype": "text/x-python",
   "name": "python",
   "nbconvert_exporter": "python",
   "pygments_lexer": "ipython3",
   "version": "3.7.3"
  }
 },
 "nbformat": 4,
 "nbformat_minor": 1
}
